{
 "cells": [
  {
   "cell_type": "markdown",
   "id": "0844b691",
   "metadata": {},
   "source": [
    "# James Jones\n",
    "## 11-30-2022"
   ]
  },
  {
   "cell_type": "code",
   "execution_count": 1,
   "id": "a0ca0d48",
   "metadata": {},
   "outputs": [],
   "source": [
    "# Import Libraries\n",
    "import numpy as np\n",
    "import pandas as pd\n",
    "import seaborn as sns\n",
    "import scipy.stats as stats\n",
    "import matplotlib.pyplot as plt"
   ]
  },
  {
   "cell_type": "code",
   "execution_count": 2,
   "id": "87232591",
   "metadata": {},
   "outputs": [
    {
     "data": {
      "text/html": [
       "<div>\n",
       "<style scoped>\n",
       "    .dataframe tbody tr th:only-of-type {\n",
       "        vertical-align: middle;\n",
       "    }\n",
       "\n",
       "    .dataframe tbody tr th {\n",
       "        vertical-align: top;\n",
       "    }\n",
       "\n",
       "    .dataframe thead th {\n",
       "        text-align: right;\n",
       "    }\n",
       "</style>\n",
       "<table border=\"1\" class=\"dataframe\">\n",
       "  <thead>\n",
       "    <tr style=\"text-align: right;\">\n",
       "      <th></th>\n",
       "      <th>age</th>\n",
       "      <th>sex</th>\n",
       "      <th>bmi</th>\n",
       "      <th>children</th>\n",
       "      <th>smoker</th>\n",
       "      <th>region</th>\n",
       "      <th>charges</th>\n",
       "    </tr>\n",
       "  </thead>\n",
       "  <tbody>\n",
       "    <tr>\n",
       "      <th>0</th>\n",
       "      <td>19</td>\n",
       "      <td>female</td>\n",
       "      <td>27.900</td>\n",
       "      <td>0</td>\n",
       "      <td>yes</td>\n",
       "      <td>southwest</td>\n",
       "      <td>16884.92400</td>\n",
       "    </tr>\n",
       "    <tr>\n",
       "      <th>1</th>\n",
       "      <td>18</td>\n",
       "      <td>male</td>\n",
       "      <td>33.770</td>\n",
       "      <td>1</td>\n",
       "      <td>no</td>\n",
       "      <td>southeast</td>\n",
       "      <td>1725.55230</td>\n",
       "    </tr>\n",
       "    <tr>\n",
       "      <th>2</th>\n",
       "      <td>28</td>\n",
       "      <td>male</td>\n",
       "      <td>33.000</td>\n",
       "      <td>3</td>\n",
       "      <td>no</td>\n",
       "      <td>southeast</td>\n",
       "      <td>4449.46200</td>\n",
       "    </tr>\n",
       "    <tr>\n",
       "      <th>3</th>\n",
       "      <td>33</td>\n",
       "      <td>male</td>\n",
       "      <td>22.705</td>\n",
       "      <td>0</td>\n",
       "      <td>no</td>\n",
       "      <td>northwest</td>\n",
       "      <td>21984.47061</td>\n",
       "    </tr>\n",
       "    <tr>\n",
       "      <th>4</th>\n",
       "      <td>32</td>\n",
       "      <td>male</td>\n",
       "      <td>28.880</td>\n",
       "      <td>0</td>\n",
       "      <td>no</td>\n",
       "      <td>northwest</td>\n",
       "      <td>3866.85520</td>\n",
       "    </tr>\n",
       "  </tbody>\n",
       "</table>\n",
       "</div>"
      ],
      "text/plain": [
       "   age     sex     bmi  children smoker     region      charges\n",
       "0   19  female  27.900         0    yes  southwest  16884.92400\n",
       "1   18    male  33.770         1     no  southeast   1725.55230\n",
       "2   28    male  33.000         3     no  southeast   4449.46200\n",
       "3   33    male  22.705         0     no  northwest  21984.47061\n",
       "4   32    male  28.880         0     no  northwest   3866.85520"
      ]
     },
     "execution_count": 2,
     "metadata": {},
     "output_type": "execute_result"
    }
   ],
   "source": [
    "# Load in data\n",
    "df = pd.read_csv('Data/insurance - insurance.csv')\n",
    "df.head()"
   ]
  },
  {
   "cell_type": "markdown",
   "id": "100cb6de",
   "metadata": {},
   "source": [
    "## We have been asked to use our hypothesis testing skills to answer the following questions:\n",
    "\n",
    "- ### Q1. Do smokers have higher insurance charges than non-smokers?\n",
    "- ### Q2. Are men more likely to smoke than women?\n",
    "- ### Q3. Do different regions have different charges, on average?"
   ]
  },
  {
   "cell_type": "code",
   "execution_count": 3,
   "id": "d6611033",
   "metadata": {},
   "outputs": [
    {
     "name": "stdout",
     "output_type": "stream",
     "text": [
      "Duplicated values: 1\n",
      "\n",
      "\n",
      "Null values:\n",
      "age         0\n",
      "sex         0\n",
      "bmi         0\n",
      "children    0\n",
      "smoker      0\n",
      "region      0\n",
      "charges     0\n",
      "dtype: int64\n",
      "\n",
      "\n",
      "DF Info:\n",
      "<class 'pandas.core.frame.DataFrame'>\n",
      "RangeIndex: 1338 entries, 0 to 1337\n",
      "Data columns (total 7 columns):\n",
      " #   Column    Non-Null Count  Dtype  \n",
      "---  ------    --------------  -----  \n",
      " 0   age       1338 non-null   int64  \n",
      " 1   sex       1338 non-null   object \n",
      " 2   bmi       1338 non-null   float64\n",
      " 3   children  1338 non-null   int64  \n",
      " 4   smoker    1338 non-null   object \n",
      " 5   region    1338 non-null   object \n",
      " 6   charges   1338 non-null   float64\n",
      "dtypes: float64(2), int64(2), object(3)\n",
      "memory usage: 73.3+ KB\n",
      "None\n"
     ]
    }
   ],
   "source": [
    "# As always, begin with some data cleaning\n",
    "print(f'Duplicated values: {df.duplicated().sum()}')\n",
    "print('\\n')\n",
    "print(\"Null values:\")\n",
    "print(df.isna().sum())\n",
    "print('\\n')\n",
    "print('DF Info:')\n",
    "print(df.info())"
   ]
  },
  {
   "cell_type": "code",
   "execution_count": 4,
   "id": "1497fad5",
   "metadata": {},
   "outputs": [],
   "source": [
    "# Drop duplicate\n",
    "df.drop_duplicates(inplace = True)"
   ]
  },
  {
   "cell_type": "code",
   "execution_count": 5,
   "id": "78156640",
   "metadata": {},
   "outputs": [
    {
     "data": {
      "text/plain": [
       "no     1063\n",
       "yes     274\n",
       "Name: smoker, dtype: int64"
      ]
     },
     "execution_count": 5,
     "metadata": {},
     "output_type": "execute_result"
    }
   ],
   "source": [
    "# Check smoker coulmn values\n",
    "df['smoker'].value_counts()"
   ]
  },
  {
   "cell_type": "code",
   "execution_count": 6,
   "id": "d7534007",
   "metadata": {},
   "outputs": [
    {
     "data": {
      "text/plain": [
       "male      675\n",
       "female    662\n",
       "Name: sex, dtype: int64"
      ]
     },
     "execution_count": 6,
     "metadata": {},
     "output_type": "execute_result"
    }
   ],
   "source": [
    "# Check sex colum values\n",
    "df['sex'].value_counts()"
   ]
  },
  {
   "cell_type": "code",
   "execution_count": 7,
   "id": "02c08c11",
   "metadata": {},
   "outputs": [
    {
     "data": {
      "text/plain": [
       "southeast    364\n",
       "southwest    325\n",
       "northwest    324\n",
       "northeast    324\n",
       "Name: region, dtype: int64"
      ]
     },
     "execution_count": 7,
     "metadata": {},
     "output_type": "execute_result"
    }
   ],
   "source": [
    "# Check region column values\n",
    "df['region'].value_counts()"
   ]
  },
  {
   "cell_type": "code",
   "execution_count": 8,
   "id": "19b8f2a8",
   "metadata": {},
   "outputs": [
    {
     "data": {
      "text/plain": [
       "16884.92400    1\n",
       "2117.33885     1\n",
       "2221.56445     1\n",
       "19798.05455    1\n",
       "13063.88300    1\n",
       "              ..\n",
       "7345.08400     1\n",
       "26109.32905    1\n",
       "28287.89766    1\n",
       "1149.39590     1\n",
       "29141.36030    1\n",
       "Name: charges, Length: 1337, dtype: int64"
      ]
     },
     "execution_count": 8,
     "metadata": {},
     "output_type": "execute_result"
    }
   ],
   "source": [
    "# Finally, check charges column values\n",
    "df['charges'].value_counts()"
   ]
  },
  {
   "cell_type": "code",
   "execution_count": 9,
   "id": "eb26a5d5",
   "metadata": {},
   "outputs": [
    {
     "data": {
      "text/html": [
       "<div>\n",
       "<style scoped>\n",
       "    .dataframe tbody tr th:only-of-type {\n",
       "        vertical-align: middle;\n",
       "    }\n",
       "\n",
       "    .dataframe tbody tr th {\n",
       "        vertical-align: top;\n",
       "    }\n",
       "\n",
       "    .dataframe thead th {\n",
       "        text-align: right;\n",
       "    }\n",
       "</style>\n",
       "<table border=\"1\" class=\"dataframe\">\n",
       "  <thead>\n",
       "    <tr style=\"text-align: right;\">\n",
       "      <th></th>\n",
       "      <th>age</th>\n",
       "      <th>bmi</th>\n",
       "      <th>children</th>\n",
       "      <th>charges</th>\n",
       "    </tr>\n",
       "  </thead>\n",
       "  <tbody>\n",
       "    <tr>\n",
       "      <th>count</th>\n",
       "      <td>1337.000000</td>\n",
       "      <td>1337.000000</td>\n",
       "      <td>1337.000000</td>\n",
       "      <td>1337.000000</td>\n",
       "    </tr>\n",
       "    <tr>\n",
       "      <th>mean</th>\n",
       "      <td>39.222139</td>\n",
       "      <td>30.663452</td>\n",
       "      <td>1.095737</td>\n",
       "      <td>13279.121487</td>\n",
       "    </tr>\n",
       "    <tr>\n",
       "      <th>std</th>\n",
       "      <td>14.044333</td>\n",
       "      <td>6.100468</td>\n",
       "      <td>1.205571</td>\n",
       "      <td>12110.359656</td>\n",
       "    </tr>\n",
       "    <tr>\n",
       "      <th>min</th>\n",
       "      <td>18.000000</td>\n",
       "      <td>15.960000</td>\n",
       "      <td>0.000000</td>\n",
       "      <td>1121.873900</td>\n",
       "    </tr>\n",
       "    <tr>\n",
       "      <th>25%</th>\n",
       "      <td>27.000000</td>\n",
       "      <td>26.290000</td>\n",
       "      <td>0.000000</td>\n",
       "      <td>4746.344000</td>\n",
       "    </tr>\n",
       "    <tr>\n",
       "      <th>50%</th>\n",
       "      <td>39.000000</td>\n",
       "      <td>30.400000</td>\n",
       "      <td>1.000000</td>\n",
       "      <td>9386.161300</td>\n",
       "    </tr>\n",
       "    <tr>\n",
       "      <th>75%</th>\n",
       "      <td>51.000000</td>\n",
       "      <td>34.700000</td>\n",
       "      <td>2.000000</td>\n",
       "      <td>16657.717450</td>\n",
       "    </tr>\n",
       "    <tr>\n",
       "      <th>max</th>\n",
       "      <td>64.000000</td>\n",
       "      <td>53.130000</td>\n",
       "      <td>5.000000</td>\n",
       "      <td>63770.428010</td>\n",
       "    </tr>\n",
       "  </tbody>\n",
       "</table>\n",
       "</div>"
      ],
      "text/plain": [
       "               age          bmi     children       charges\n",
       "count  1337.000000  1337.000000  1337.000000   1337.000000\n",
       "mean     39.222139    30.663452     1.095737  13279.121487\n",
       "std      14.044333     6.100468     1.205571  12110.359656\n",
       "min      18.000000    15.960000     0.000000   1121.873900\n",
       "25%      27.000000    26.290000     0.000000   4746.344000\n",
       "50%      39.000000    30.400000     1.000000   9386.161300\n",
       "75%      51.000000    34.700000     2.000000  16657.717450\n",
       "max      64.000000    53.130000     5.000000  63770.428010"
      ]
     },
     "execution_count": 9,
     "metadata": {},
     "output_type": "execute_result"
    }
   ],
   "source": [
    "# There are too many unique charges to view, so instead look at .describe()\n",
    "df.describe()"
   ]
  },
  {
   "cell_type": "markdown",
   "id": "fd22b0dc",
   "metadata": {},
   "source": [
    "### All values we'll be assessing seem to be correct. Now we can move on to hypothesis testing\n",
    "#### For each question, make sure to:\n",
    "\n",
    "1. State your Null Hypothesis and Alternative Hypothesis\n",
    "2. Select the correct test according to the data type and number of samples\n",
    "3. Test the assumptions of your selected test.\n",
    "4. Execute the selected test, or the alternative test (if you do not meet the assumptions)\n",
    "5. Interpret your p-value and reject or fail to reject your null hypothesis \n",
    "6. Show a supporting visualization that helps display the result"
   ]
  },
  {
   "cell_type": "markdown",
   "id": "39ed2a5d",
   "metadata": {},
   "source": [
    "### Q 1: Do smokers have higher insurance charges than non-smokers?\n",
    "- #### Null Hypothesis:\n",
    "    - There will be **no** difference between insurance charges for smokers and non-smokers\n",
    "- #### Alternate Hypothesis:\n",
    "    - There will be a statistical difference between insurance charges for smokers and non-smokers\n",
    "- #### Alpha = 0.05\n",
    "    \n",
    "#### We will be using a 2 sample T-test"
   ]
  },
  {
   "cell_type": "code",
   "execution_count": 10,
   "id": "6e20e784",
   "metadata": {},
   "outputs": [
    {
     "name": "stdout",
     "output_type": "stream",
     "text": [
      "<class 'pandas.core.frame.DataFrame'>\n",
      "Int64Index: 274 entries, 0 to 1337\n",
      "Data columns (total 7 columns):\n",
      " #   Column    Non-Null Count  Dtype  \n",
      "---  ------    --------------  -----  \n",
      " 0   age       274 non-null    int64  \n",
      " 1   sex       274 non-null    object \n",
      " 2   bmi       274 non-null    float64\n",
      " 3   children  274 non-null    int64  \n",
      " 4   smoker    274 non-null    object \n",
      " 5   region    274 non-null    object \n",
      " 6   charges   274 non-null    float64\n",
      "dtypes: float64(2), int64(2), object(3)\n",
      "memory usage: 17.1+ KB\n"
     ]
    }
   ],
   "source": [
    "# Split data into 2 groups (smokers and non-smokers)\n",
    "smoker_df = df.loc[df['smoker'] == 'yes'].copy()\n",
    "non_smoker_df = df.loc[df['smoker'] == 'no'].copy()\n",
    "\n",
    "# Display smoker_df.info() to show that the split was performed properly\n",
    "smoker_df.info()"
   ]
  },
  {
   "cell_type": "code",
   "execution_count": 11,
   "id": "38ee50fd",
   "metadata": {},
   "outputs": [
    {
     "name": "stdout",
     "output_type": "stream",
     "text": [
      "<class 'pandas.core.frame.DataFrame'>\n",
      "Int64Index: 1063 entries, 1 to 1336\n",
      "Data columns (total 7 columns):\n",
      " #   Column    Non-Null Count  Dtype  \n",
      "---  ------    --------------  -----  \n",
      " 0   age       1063 non-null   int64  \n",
      " 1   sex       1063 non-null   object \n",
      " 2   bmi       1063 non-null   float64\n",
      " 3   children  1063 non-null   int64  \n",
      " 4   smoker    1063 non-null   object \n",
      " 5   region    1063 non-null   object \n",
      " 6   charges   1063 non-null   float64\n",
      "dtypes: float64(2), int64(2), object(3)\n",
      "memory usage: 66.4+ KB\n"
     ]
    }
   ],
   "source": [
    "# Display non_smoker_df.info() to display the split was performed properly\n",
    "    # Will only do this for question 1 to ensure the code is correct\n",
    "non_smoker_df.info()"
   ]
  },
  {
   "cell_type": "code",
   "execution_count": 12,
   "id": "65445558",
   "metadata": {},
   "outputs": [],
   "source": [
    "# Define features of interest\n",
    "smoker_charges = smoker_df['charges']\n",
    "non_smoker_charges = non_smoker_df['charges']"
   ]
  },
  {
   "cell_type": "code",
   "execution_count": 13,
   "id": "d5c5c563",
   "metadata": {},
   "outputs": [
    {
     "data": {
      "image/png": "[encoded data removed]",
      "text/plain": [
       "<Figure size 1000x500 with 2 Axes>"
      ]
     },
     "metadata": {},
     "output_type": "display_data"
    }
   ],
   "source": [
    "# Visualize comparison of two groups (unnecessary, but helpful step)\n",
    "smoker_palette = {'smoker':'blue', \"non_smoker\":'orange'}\n",
    "\n",
    "# Visualizing Sample means\n",
    "fig, (ax, ax_bar) = plt.subplots(figsize = (10,5), ncols = 2, \n",
    "                                constrained_layout = True,\n",
    "                                gridspec_kw = {'width_ratios':[0.8,0.2]})\n",
    "\n",
    "\n",
    "# Histogram\n",
    "ax = sns.histplot(data = df, x = 'charges', fill = True, hue = 'smoker',\n",
    "                  kde = True, stat = 'density', common_norm = False, ax = ax)\n",
    "\n",
    "ax.axvline(np.mean(smoker_charges), ls = '--', lw = 3, \n",
    "           label = f\"Smokers (Mean = {np.mean(smoker_charges):.2f})\",\n",
    "           color = smoker_palette['smoker'])\n",
    "\n",
    "ax.axvline(np.mean(non_smoker_charges), ls = '--', lw = 3, \n",
    "           label = f\"Non-Smokers (Mean = {np.mean(non_smoker_charges):.2f})\",\n",
    "           color = smoker_palette['non_smoker'])\n",
    "\n",
    "ax.legend(prop = {\"size\":14}, loc = 'upper right') # bbox_to_anchor = [1,1])\n",
    "\n",
    "# Barplot\n",
    "sns.barplot(data = df, x = 'smoker', y = 'charges', ax = ax_bar,\n",
    "            hue = 'smoker')\n",
    "fig.suptitle('Insurance charges of Smokers vs. Non-Smokers', fontsize = 'xx-large');"
   ]
  },
  {
   "cell_type": "code",
   "execution_count": 14,
   "id": "572b256e",
   "metadata": {},
   "outputs": [
    {
     "data": {
      "text/plain": [
       "0"
      ]
     },
     "execution_count": 14,
     "metadata": {},
     "output_type": "execute_result"
    }
   ],
   "source": [
    "# Check for outliers separately in both groups\n",
    "zscores_yes = stats.zscore(smoker_charges)\n",
    "outliers = abs(zscores_yes) > 3\n",
    "np.sum(outliers)"
   ]
  },
  {
   "cell_type": "code",
   "execution_count": 15,
   "id": "0fed2d73",
   "metadata": {},
   "outputs": [
    {
     "data": {
      "text/plain": [
       "24"
      ]
     },
     "execution_count": 15,
     "metadata": {},
     "output_type": "execute_result"
    }
   ],
   "source": [
    "# Check non_smoker z-scores\n",
    "zscores_no = stats.zscore(non_smoker_charges)\n",
    "outliers_2 = abs(zscores_no) > 3\n",
    "np.sum(outliers_2)"
   ]
  },
  {
   "cell_type": "code",
   "execution_count": 16,
   "id": "a2bf5d5a",
   "metadata": {},
   "outputs": [],
   "source": [
    "# There are 24 outliers in our non_smoker group. Let's remove them\n",
    "non_smoker_charges = non_smoker_charges[(np.abs(stats.zscore(non_smoker_charges)) < 3)]"
   ]
  },
  {
   "cell_type": "code",
   "execution_count": 17,
   "id": "184cf05a",
   "metadata": {},
   "outputs": [
    {
     "data": {
      "text/plain": [
       "NormaltestResult(statistic=61.03941356533816, pvalue=5.564930630036463e-14)"
      ]
     },
     "execution_count": 17,
     "metadata": {},
     "output_type": "execute_result"
    }
   ],
   "source": [
    "# Check for normality\n",
    "result_smoker_charges = stats.normaltest(smoker_charges)\n",
    "result_smoker_charges"
   ]
  },
  {
   "cell_type": "code",
   "execution_count": 18,
   "id": "119b2382",
   "metadata": {},
   "outputs": [
    {
     "data": {
      "text/plain": [
       "NormaltestResult(statistic=163.70821423990097, pvalue=2.8262654970074626e-36)"
      ]
     },
     "execution_count": 18,
     "metadata": {},
     "output_type": "execute_result"
    }
   ],
   "source": [
    "result_non_smoker_charges = stats.normaltest(non_smoker_charges)\n",
    "result_non_smoker_charges"
   ]
  },
  {
   "cell_type": "markdown",
   "id": "45869c7c",
   "metadata": {},
   "source": [
    "### Both normality tests resulted i a p-value far below 0.05, indicting they are NOT normally distributed\n",
    "- We will continue with our tests, however, because the group sizes are larger than 15"
   ]
  },
  {
   "cell_type": "code",
   "execution_count": 19,
   "id": "8693af20",
   "metadata": {},
   "outputs": [
    {
     "data": {
      "text/plain": [
       "LeveneResult(statistic=520.7178262969225, pvalue=2.512613039096279e-97)"
      ]
     },
     "execution_count": 19,
     "metadata": {},
     "output_type": "execute_result"
    }
   ],
   "source": [
    "# Use Levene test to check for equal variance\n",
    "result_levene = stats.levene(smoker_charges, non_smoker_charges)\n",
    "result_levene"
   ]
  },
  {
   "cell_type": "markdown",
   "id": "afeaf461",
   "metadata": {},
   "source": [
    "### Our groups do NOT have equal variance \n",
    "- Therefore we will include \"equal_var = False\" in our T-Test"
   ]
  },
  {
   "cell_type": "code",
   "execution_count": 20,
   "id": "7f71103b",
   "metadata": {},
   "outputs": [
    {
     "data": {
      "text/plain": [
       "Ttest_indResult(statistic=33.723466247187815, pvalue=2.7282718648018296e-104)"
      ]
     },
     "execution_count": 20,
     "metadata": {},
     "output_type": "execute_result"
    }
   ],
   "source": [
    "# Independent t-test with equal var set to False\n",
    "result_ttest = stats.ttest_ind(smoker_charges, non_smoker_charges,\n",
    "                               equal_var = False)\n",
    "result_ttest"
   ]
  },
  {
   "cell_type": "code",
   "execution_count": 21,
   "id": "c7987de2",
   "metadata": {},
   "outputs": [
    {
     "data": {
      "image/png": "[encoded data removed]",
      "text/plain": [
       "<Figure size 400x400 with 1 Axes>"
      ]
     },
     "metadata": {},
     "output_type": "display_data"
    }
   ],
   "source": [
    "# Quick barplot to see diference in average insurance charges between Smokers and Non_Smokers\n",
    "fig, ax = plt.subplots(figsize = (4, 4))\n",
    "sns.barplot(data = df, x = 'smoker', y = 'charges', hue = 'smoker')\n",
    "plt.title('Average insurance charges of Smokers and Non-Smokers');"
   ]
  },
  {
   "cell_type": "markdown",
   "id": "460ea9f4",
   "metadata": {},
   "source": [
    "## Q1 Hypothesis Test Result\n",
    "- ### Our p-value is less than 0.05 (< 0.05), therefore we will reject the null hypothesis that there is no difference between insurance charges for smokers and non-smokers"
   ]
  },
  {
   "cell_type": "markdown",
   "id": "ff30c965",
   "metadata": {},
   "source": [
    "..................................................................................................................................................................................................................................................."
   ]
  },
  {
   "cell_type": "markdown",
   "id": "add2af2c",
   "metadata": {},
   "source": [
    "### Q2. Are men more likely to smoke than women?\n",
    "- #### Null Hypothesis:\n",
    "    - There is no difference in the smoking rate of men and women\n",
    "- #### Alternate Hypothesis:\n",
    "    - There will be a statistical difference between the smoking rate of men and women\n",
    "- #### Alpha = 0.05\n",
    "    \n",
    "#### We will be using a Chi-Squared Test"
   ]
  },
  {
   "cell_type": "code",
   "execution_count": 22,
   "id": "572fd2ed",
   "metadata": {},
   "outputs": [
    {
     "data": {
      "text/html": [
       "<div>\n",
       "<style scoped>\n",
       "    .dataframe tbody tr th:only-of-type {\n",
       "        vertical-align: middle;\n",
       "    }\n",
       "\n",
       "    .dataframe tbody tr th {\n",
       "        vertical-align: top;\n",
       "    }\n",
       "\n",
       "    .dataframe thead th {\n",
       "        text-align: right;\n",
       "    }\n",
       "</style>\n",
       "<table border=\"1\" class=\"dataframe\">\n",
       "  <thead>\n",
       "    <tr style=\"text-align: right;\">\n",
       "      <th>smoker</th>\n",
       "      <th>no</th>\n",
       "      <th>yes</th>\n",
       "    </tr>\n",
       "    <tr>\n",
       "      <th>sex</th>\n",
       "      <th></th>\n",
       "      <th></th>\n",
       "    </tr>\n",
       "  </thead>\n",
       "  <tbody>\n",
       "    <tr>\n",
       "      <th>female</th>\n",
       "      <td>547</td>\n",
       "      <td>115</td>\n",
       "    </tr>\n",
       "    <tr>\n",
       "      <th>male</th>\n",
       "      <td>516</td>\n",
       "      <td>159</td>\n",
       "    </tr>\n",
       "  </tbody>\n",
       "</table>\n",
       "</div>"
      ],
      "text/plain": [
       "smoker   no  yes\n",
       "sex             \n",
       "female  547  115\n",
       "male    516  159"
      ]
     },
     "execution_count": 22,
     "metadata": {},
     "output_type": "execute_result"
    }
   ],
   "source": [
    "# In order to use a Chi-Squared, we need to generate a Contingency Table\n",
    "table = pd.crosstab(df['sex'], df['smoker'])\n",
    "table"
   ]
  },
  {
   "cell_type": "code",
   "execution_count": 23,
   "id": "cc6178cc",
   "metadata": {},
   "outputs": [],
   "source": [
    "# Run our Chi-Squared test and save the result\n",
    "result_chi = stats.chi2_contingency(table)\n",
    "chi2, p, deg_free, expected_vals = result_chi # This creates the labels for our results"
   ]
  },
  {
   "cell_type": "code",
   "execution_count": 24,
   "id": "9fdbb67d",
   "metadata": {},
   "outputs": [
    {
     "name": "stdout",
     "output_type": "stream",
     "text": [
      "0.0062765550120107375\n"
     ]
    },
    {
     "data": {
      "text/plain": [
       "True"
      ]
     },
     "execution_count": 24,
     "metadata": {},
     "output_type": "execute_result"
    }
   ],
   "source": [
    "# What is our p-value?\n",
    "print(p)\n",
    "p < 0.05"
   ]
  },
  {
   "cell_type": "code",
   "execution_count": 25,
   "id": "8140c940",
   "metadata": {},
   "outputs": [
    {
     "data": {
      "image/png": "[encoded data removed]",
      "text/plain": [
       "<Figure size 600x400 with 1 Axes>"
      ]
     },
     "metadata": {},
     "output_type": "display_data"
    }
   ],
   "source": [
    "# Quick barplot to see diference in smoking rate between Men and Women\n",
    "table.plot.bar(figsize = (6, 4), rot = 0)\n",
    "plt.title('Number of Smokers and Non-Smokers by Sex');"
   ]
  },
  {
   "cell_type": "markdown",
   "id": "9e20f186",
   "metadata": {},
   "source": [
    "## Q2 Hypothesis Test Result\n",
    "### Our p-value is only lower by one decimal place, but this is still lower than our threshold of 0.05, and therefore we will reject the null hypothesis that there is no difference in smoking rate between men and women. "
   ]
  },
  {
   "cell_type": "markdown",
   "id": "00c988c7",
   "metadata": {},
   "source": [
    "..................................................................................................................................................................................................................................................."
   ]
  },
  {
   "cell_type": "markdown",
   "id": "0f65164d",
   "metadata": {},
   "source": [
    "### Q3. Do different regions have different charges, on average?\n",
    "- #### Null Hypothesis:\n",
    "    - There is no difference in insurance charges in different regions\n",
    "- #### Alternate Hypothesis:\n",
    "    - There will be a statistical difference between insurance charges in different regions\n",
    "- #### Alpha = 0.05\n",
    "    \n",
    "#### We will be using an ANOVA Test"
   ]
  },
  {
   "cell_type": "code",
   "execution_count": 26,
   "id": "4c5546ba",
   "metadata": {},
   "outputs": [
    {
     "data": {
      "image/png": "[encoded data removed]",
      "text/plain": [
       "<Figure size 640x480 with 1 Axes>"
      ]
     },
     "metadata": {},
     "output_type": "display_data"
    }
   ],
   "source": [
    "# A visualization of our data distribution before assessing for outliers\n",
    "sns.barplot(data = df, x = 'region', y = 'charges');"
   ]
  },
  {
   "cell_type": "markdown",
   "id": "e7a51706",
   "metadata": {},
   "source": [
    "### We need to assess for outliers using Tukey's rule for Outliers\n",
    "- Tukey's rule states that outliers are those values more than 1.5 times the IQR (Interquartile Range).\n",
    "- This means values either: \n",
    "  - 1.5 times lower than Q1 (Q1 - 1.5IQR)\n",
    "  - 1.5 times higher than Q3 (Q3 + 1.5IQR)\n",
    "\n",
    "Therefore, we need to calculate our Q1, Q3, and IQR. Then, we can find our upper and lower limits, and drop outliers outside that range. \n",
    "\n",
    "The below code was adapted from: https://www.youtube.com/watch?v=A3gClkblXK8\n",
    "\n",
    "\n"
   ]
  },
  {
   "cell_type": "code",
   "execution_count": 27,
   "id": "7d02a7b6",
   "metadata": {},
   "outputs": [],
   "source": [
    "# Make a copy df as not to alter the original\n",
    "anova_df = df.copy()"
   ]
  },
  {
   "cell_type": "code",
   "execution_count": 28,
   "id": "4e6be6fb",
   "metadata": {},
   "outputs": [
    {
     "data": {
      "text/plain": [
       "(4746.344, 16657.71745)"
      ]
     },
     "execution_count": 28,
     "metadata": {},
     "output_type": "execute_result"
    }
   ],
   "source": [
    "# Calculate Q1 and Q2\n",
    "Q1 = anova_df.charges.quantile(0.25)\n",
    "Q3 = anova_df.charges.quantile(0.75)\n",
    "Q1, Q3"
   ]
  },
  {
   "cell_type": "code",
   "execution_count": 29,
   "id": "f341cfb8",
   "metadata": {},
   "outputs": [
    {
     "data": {
      "text/plain": [
       "11911.37345"
      ]
     },
     "execution_count": 29,
     "metadata": {},
     "output_type": "execute_result"
    }
   ],
   "source": [
    "# Calculate IQR\n",
    "IQR = Q3 - Q1\n",
    "IQR"
   ]
  },
  {
   "cell_type": "code",
   "execution_count": 30,
   "id": "d40e60b8",
   "metadata": {},
   "outputs": [
    {
     "data": {
      "text/plain": [
       "(-13120.716174999998, 34524.777625)"
      ]
     },
     "execution_count": 30,
     "metadata": {},
     "output_type": "execute_result"
    }
   ],
   "source": [
    "# Set upper and lower limit\n",
    "lower_limit = Q1 - (1.5 * IQR)\n",
    "upper_limit = Q3 + (1.5 * IQR)\n",
    "lower_limit, upper_limit"
   ]
  },
  {
   "cell_type": "code",
   "execution_count": 31,
   "id": "72f4acc3",
   "metadata": {},
   "outputs": [
    {
     "data": {
      "text/html": [
       "<div>\n",
       "<style scoped>\n",
       "    .dataframe tbody tr th:only-of-type {\n",
       "        vertical-align: middle;\n",
       "    }\n",
       "\n",
       "    .dataframe tbody tr th {\n",
       "        vertical-align: top;\n",
       "    }\n",
       "\n",
       "    .dataframe thead th {\n",
       "        text-align: right;\n",
       "    }\n",
       "</style>\n",
       "<table border=\"1\" class=\"dataframe\">\n",
       "  <thead>\n",
       "    <tr style=\"text-align: right;\">\n",
       "      <th></th>\n",
       "      <th>age</th>\n",
       "      <th>sex</th>\n",
       "      <th>bmi</th>\n",
       "      <th>children</th>\n",
       "      <th>smoker</th>\n",
       "      <th>region</th>\n",
       "      <th>charges</th>\n",
       "    </tr>\n",
       "  </thead>\n",
       "  <tbody>\n",
       "    <tr>\n",
       "      <th>14</th>\n",
       "      <td>27</td>\n",
       "      <td>male</td>\n",
       "      <td>42.130</td>\n",
       "      <td>0</td>\n",
       "      <td>yes</td>\n",
       "      <td>southeast</td>\n",
       "      <td>39611.75770</td>\n",
       "    </tr>\n",
       "    <tr>\n",
       "      <th>19</th>\n",
       "      <td>30</td>\n",
       "      <td>male</td>\n",
       "      <td>35.300</td>\n",
       "      <td>0</td>\n",
       "      <td>yes</td>\n",
       "      <td>southwest</td>\n",
       "      <td>36837.46700</td>\n",
       "    </tr>\n",
       "    <tr>\n",
       "      <th>23</th>\n",
       "      <td>34</td>\n",
       "      <td>female</td>\n",
       "      <td>31.920</td>\n",
       "      <td>1</td>\n",
       "      <td>yes</td>\n",
       "      <td>northeast</td>\n",
       "      <td>37701.87680</td>\n",
       "    </tr>\n",
       "    <tr>\n",
       "      <th>29</th>\n",
       "      <td>31</td>\n",
       "      <td>male</td>\n",
       "      <td>36.300</td>\n",
       "      <td>2</td>\n",
       "      <td>yes</td>\n",
       "      <td>southwest</td>\n",
       "      <td>38711.00000</td>\n",
       "    </tr>\n",
       "    <tr>\n",
       "      <th>30</th>\n",
       "      <td>22</td>\n",
       "      <td>male</td>\n",
       "      <td>35.600</td>\n",
       "      <td>0</td>\n",
       "      <td>yes</td>\n",
       "      <td>southwest</td>\n",
       "      <td>35585.57600</td>\n",
       "    </tr>\n",
       "    <tr>\n",
       "      <th>...</th>\n",
       "      <td>...</td>\n",
       "      <td>...</td>\n",
       "      <td>...</td>\n",
       "      <td>...</td>\n",
       "      <td>...</td>\n",
       "      <td>...</td>\n",
       "      <td>...</td>\n",
       "    </tr>\n",
       "    <tr>\n",
       "      <th>1300</th>\n",
       "      <td>45</td>\n",
       "      <td>male</td>\n",
       "      <td>30.360</td>\n",
       "      <td>0</td>\n",
       "      <td>yes</td>\n",
       "      <td>southeast</td>\n",
       "      <td>62592.87309</td>\n",
       "    </tr>\n",
       "    <tr>\n",
       "      <th>1301</th>\n",
       "      <td>62</td>\n",
       "      <td>male</td>\n",
       "      <td>30.875</td>\n",
       "      <td>3</td>\n",
       "      <td>yes</td>\n",
       "      <td>northwest</td>\n",
       "      <td>46718.16325</td>\n",
       "    </tr>\n",
       "    <tr>\n",
       "      <th>1303</th>\n",
       "      <td>43</td>\n",
       "      <td>male</td>\n",
       "      <td>27.800</td>\n",
       "      <td>0</td>\n",
       "      <td>yes</td>\n",
       "      <td>southwest</td>\n",
       "      <td>37829.72420</td>\n",
       "    </tr>\n",
       "    <tr>\n",
       "      <th>1313</th>\n",
       "      <td>19</td>\n",
       "      <td>female</td>\n",
       "      <td>34.700</td>\n",
       "      <td>2</td>\n",
       "      <td>yes</td>\n",
       "      <td>southwest</td>\n",
       "      <td>36397.57600</td>\n",
       "    </tr>\n",
       "    <tr>\n",
       "      <th>1323</th>\n",
       "      <td>42</td>\n",
       "      <td>female</td>\n",
       "      <td>40.370</td>\n",
       "      <td>2</td>\n",
       "      <td>yes</td>\n",
       "      <td>southeast</td>\n",
       "      <td>43896.37630</td>\n",
       "    </tr>\n",
       "  </tbody>\n",
       "</table>\n",
       "<p>139 rows × 7 columns</p>\n",
       "</div>"
      ],
      "text/plain": [
       "      age     sex     bmi  children smoker     region      charges\n",
       "14     27    male  42.130         0    yes  southeast  39611.75770\n",
       "19     30    male  35.300         0    yes  southwest  36837.46700\n",
       "23     34  female  31.920         1    yes  northeast  37701.87680\n",
       "29     31    male  36.300         2    yes  southwest  38711.00000\n",
       "30     22    male  35.600         0    yes  southwest  35585.57600\n",
       "...   ...     ...     ...       ...    ...        ...          ...\n",
       "1300   45    male  30.360         0    yes  southeast  62592.87309\n",
       "1301   62    male  30.875         3    yes  northwest  46718.16325\n",
       "1303   43    male  27.800         0    yes  southwest  37829.72420\n",
       "1313   19  female  34.700         2    yes  southwest  36397.57600\n",
       "1323   42  female  40.370         2    yes  southeast  43896.37630\n",
       "\n",
       "[139 rows x 7 columns]"
      ]
     },
     "execution_count": 31,
     "metadata": {},
     "output_type": "execute_result"
    }
   ],
   "source": [
    "# Now, we will find and list our outliers\n",
    "anova_df[(anova_df.charges < lower_limit) | (anova_df.charges > upper_limit)]"
   ]
  },
  {
   "cell_type": "code",
   "execution_count": 32,
   "id": "3145d21c",
   "metadata": {},
   "outputs": [
    {
     "data": {
      "text/html": [
       "<div>\n",
       "<style scoped>\n",
       "    .dataframe tbody tr th:only-of-type {\n",
       "        vertical-align: middle;\n",
       "    }\n",
       "\n",
       "    .dataframe tbody tr th {\n",
       "        vertical-align: top;\n",
       "    }\n",
       "\n",
       "    .dataframe thead th {\n",
       "        text-align: right;\n",
       "    }\n",
       "</style>\n",
       "<table border=\"1\" class=\"dataframe\">\n",
       "  <thead>\n",
       "    <tr style=\"text-align: right;\">\n",
       "      <th></th>\n",
       "      <th>age</th>\n",
       "      <th>sex</th>\n",
       "      <th>bmi</th>\n",
       "      <th>children</th>\n",
       "      <th>smoker</th>\n",
       "      <th>region</th>\n",
       "      <th>charges</th>\n",
       "    </tr>\n",
       "  </thead>\n",
       "  <tbody>\n",
       "    <tr>\n",
       "      <th>0</th>\n",
       "      <td>19</td>\n",
       "      <td>female</td>\n",
       "      <td>27.900</td>\n",
       "      <td>0</td>\n",
       "      <td>yes</td>\n",
       "      <td>southwest</td>\n",
       "      <td>16884.92400</td>\n",
       "    </tr>\n",
       "    <tr>\n",
       "      <th>1</th>\n",
       "      <td>18</td>\n",
       "      <td>male</td>\n",
       "      <td>33.770</td>\n",
       "      <td>1</td>\n",
       "      <td>no</td>\n",
       "      <td>southeast</td>\n",
       "      <td>1725.55230</td>\n",
       "    </tr>\n",
       "    <tr>\n",
       "      <th>2</th>\n",
       "      <td>28</td>\n",
       "      <td>male</td>\n",
       "      <td>33.000</td>\n",
       "      <td>3</td>\n",
       "      <td>no</td>\n",
       "      <td>southeast</td>\n",
       "      <td>4449.46200</td>\n",
       "    </tr>\n",
       "    <tr>\n",
       "      <th>3</th>\n",
       "      <td>33</td>\n",
       "      <td>male</td>\n",
       "      <td>22.705</td>\n",
       "      <td>0</td>\n",
       "      <td>no</td>\n",
       "      <td>northwest</td>\n",
       "      <td>21984.47061</td>\n",
       "    </tr>\n",
       "    <tr>\n",
       "      <th>4</th>\n",
       "      <td>32</td>\n",
       "      <td>male</td>\n",
       "      <td>28.880</td>\n",
       "      <td>0</td>\n",
       "      <td>no</td>\n",
       "      <td>northwest</td>\n",
       "      <td>3866.85520</td>\n",
       "    </tr>\n",
       "    <tr>\n",
       "      <th>...</th>\n",
       "      <td>...</td>\n",
       "      <td>...</td>\n",
       "      <td>...</td>\n",
       "      <td>...</td>\n",
       "      <td>...</td>\n",
       "      <td>...</td>\n",
       "      <td>...</td>\n",
       "    </tr>\n",
       "    <tr>\n",
       "      <th>1333</th>\n",
       "      <td>50</td>\n",
       "      <td>male</td>\n",
       "      <td>30.970</td>\n",
       "      <td>3</td>\n",
       "      <td>no</td>\n",
       "      <td>northwest</td>\n",
       "      <td>10600.54830</td>\n",
       "    </tr>\n",
       "    <tr>\n",
       "      <th>1334</th>\n",
       "      <td>18</td>\n",
       "      <td>female</td>\n",
       "      <td>31.920</td>\n",
       "      <td>0</td>\n",
       "      <td>no</td>\n",
       "      <td>northeast</td>\n",
       "      <td>2205.98080</td>\n",
       "    </tr>\n",
       "    <tr>\n",
       "      <th>1335</th>\n",
       "      <td>18</td>\n",
       "      <td>female</td>\n",
       "      <td>36.850</td>\n",
       "      <td>0</td>\n",
       "      <td>no</td>\n",
       "      <td>southeast</td>\n",
       "      <td>1629.83350</td>\n",
       "    </tr>\n",
       "    <tr>\n",
       "      <th>1336</th>\n",
       "      <td>21</td>\n",
       "      <td>female</td>\n",
       "      <td>25.800</td>\n",
       "      <td>0</td>\n",
       "      <td>no</td>\n",
       "      <td>southwest</td>\n",
       "      <td>2007.94500</td>\n",
       "    </tr>\n",
       "    <tr>\n",
       "      <th>1337</th>\n",
       "      <td>61</td>\n",
       "      <td>female</td>\n",
       "      <td>29.070</td>\n",
       "      <td>0</td>\n",
       "      <td>yes</td>\n",
       "      <td>northwest</td>\n",
       "      <td>29141.36030</td>\n",
       "    </tr>\n",
       "  </tbody>\n",
       "</table>\n",
       "<p>1198 rows × 7 columns</p>\n",
       "</div>"
      ],
      "text/plain": [
       "      age     sex     bmi  children smoker     region      charges\n",
       "0      19  female  27.900         0    yes  southwest  16884.92400\n",
       "1      18    male  33.770         1     no  southeast   1725.55230\n",
       "2      28    male  33.000         3     no  southeast   4449.46200\n",
       "3      33    male  22.705         0     no  northwest  21984.47061\n",
       "4      32    male  28.880         0     no  northwest   3866.85520\n",
       "...   ...     ...     ...       ...    ...        ...          ...\n",
       "1333   50    male  30.970         3     no  northwest  10600.54830\n",
       "1334   18  female  31.920         0     no  northeast   2205.98080\n",
       "1335   18  female  36.850         0     no  southeast   1629.83350\n",
       "1336   21  female  25.800         0     no  southwest   2007.94500\n",
       "1337   61  female  29.070         0    yes  northwest  29141.36030\n",
       "\n",
       "[1198 rows x 7 columns]"
      ]
     },
     "execution_count": 32,
     "metadata": {},
     "output_type": "execute_result"
    }
   ],
   "source": [
    "anova_no_outliers = anova_df[(anova_df.charges > lower_limit) & (anova_df.charges < upper_limit)]\n",
    "anova_no_outliers\n",
    "    # We can see below (from our row count) tha we have eliminated our outliers"
   ]
  },
  {
   "cell_type": "markdown",
   "id": "3887304e",
   "metadata": {},
   "source": [
    "### Note: This could have been done at the beginning, but it is good to see multiple approaches to dealing with outliers. \n",
    "- This would also have eliminated some of the data used in our Chi-Squared test to compare smoking in men and women possibly altering the result"
   ]
  },
  {
   "cell_type": "code",
   "execution_count": 33,
   "id": "b291a7ad",
   "metadata": {},
   "outputs": [
    {
     "data": {
      "text/plain": [
       "dict_keys(['southwest', 'southeast', 'northwest', 'northeast'])"
      ]
     },
     "execution_count": 33,
     "metadata": {},
     "output_type": "execute_result"
    }
   ],
   "source": [
    "# We need to separate and analyze our groups individually. We have 4 regions\n",
    "# Regions (as shown in the begining): southeast, southwest, northeast, northwest\n",
    "regions = {}\n",
    "\n",
    "# Loop through all unique characteristics\n",
    "for i in anova_no_outliers['region'].unique():\n",
    "    data = anova_no_outliers.loc[anova_no_outliers['region'] == i, 'charges'].copy()\n",
    "    \n",
    "    # Save results in dictionary\n",
    "    regions[i] = data\n",
    "    \n",
    "regions.keys()"
   ]
  },
  {
   "cell_type": "code",
   "execution_count": 34,
   "id": "4b436cf4",
   "metadata": {},
   "outputs": [
    {
     "data": {
      "text/html": [
       "<div>\n",
       "<style scoped>\n",
       "    .dataframe tbody tr th:only-of-type {\n",
       "        vertical-align: middle;\n",
       "    }\n",
       "\n",
       "    .dataframe tbody tr th {\n",
       "        vertical-align: top;\n",
       "    }\n",
       "\n",
       "    .dataframe thead th {\n",
       "        text-align: right;\n",
       "    }\n",
       "</style>\n",
       "<table border=\"1\" class=\"dataframe\">\n",
       "  <thead>\n",
       "    <tr style=\"text-align: right;\">\n",
       "      <th></th>\n",
       "      <th>n</th>\n",
       "      <th>p</th>\n",
       "      <th>test stat</th>\n",
       "    </tr>\n",
       "  </thead>\n",
       "  <tbody>\n",
       "    <tr>\n",
       "      <th>southwest</th>\n",
       "      <td>291.0</td>\n",
       "      <td>1.906636e-16</td>\n",
       "      <td>72.392042</td>\n",
       "    </tr>\n",
       "    <tr>\n",
       "      <th>southeast</th>\n",
       "      <td>307.0</td>\n",
       "      <td>1.433158e-11</td>\n",
       "      <td>49.937112</td>\n",
       "    </tr>\n",
       "    <tr>\n",
       "      <th>northwest</th>\n",
       "      <td>304.0</td>\n",
       "      <td>6.419143e-13</td>\n",
       "      <td>56.148643</td>\n",
       "    </tr>\n",
       "    <tr>\n",
       "      <th>northeast</th>\n",
       "      <td>296.0</td>\n",
       "      <td>3.207934e-10</td>\n",
       "      <td>43.720448</td>\n",
       "    </tr>\n",
       "  </tbody>\n",
       "</table>\n",
       "</div>"
      ],
      "text/plain": [
       "               n             p  test stat\n",
       "southwest  291.0  1.906636e-16  72.392042\n",
       "southeast  307.0  1.433158e-11  49.937112\n",
       "northwest  304.0  6.419143e-13  56.148643\n",
       "northeast  296.0  3.207934e-10  43.720448"
      ]
     },
     "execution_count": 34,
     "metadata": {},
     "output_type": "execute_result"
    }
   ],
   "source": [
    "# Now, we can assess normality of our regions (groups)\n",
    "norm_results = {}\n",
    "\n",
    "for i, data in regions.items():\n",
    "    stat, p = stats.normaltest(data)\n",
    "    \n",
    "    # Append norm_results with p-values, test stats, and size of region group\n",
    "    norm_results[i] = {'n': len(data), 'p': p, 'test stat': stat,}\n",
    "    \n",
    "# Convert to a DF\n",
    "norm_results_df = pd.DataFrame(norm_results).T\n",
    "norm_results_df"
   ]
  },
  {
   "cell_type": "code",
   "execution_count": 35,
   "id": "1094b6ae",
   "metadata": {},
   "outputs": [
    {
     "data": {
      "text/html": [
       "<div>\n",
       "<style scoped>\n",
       "    .dataframe tbody tr th:only-of-type {\n",
       "        vertical-align: middle;\n",
       "    }\n",
       "\n",
       "    .dataframe tbody tr th {\n",
       "        vertical-align: top;\n",
       "    }\n",
       "\n",
       "    .dataframe thead th {\n",
       "        text-align: right;\n",
       "    }\n",
       "</style>\n",
       "<table border=\"1\" class=\"dataframe\">\n",
       "  <thead>\n",
       "    <tr style=\"text-align: right;\">\n",
       "      <th></th>\n",
       "      <th>n</th>\n",
       "      <th>p</th>\n",
       "      <th>test stat</th>\n",
       "      <th>sig</th>\n",
       "    </tr>\n",
       "  </thead>\n",
       "  <tbody>\n",
       "    <tr>\n",
       "      <th>southwest</th>\n",
       "      <td>291.0</td>\n",
       "      <td>1.906636e-16</td>\n",
       "      <td>72.392042</td>\n",
       "      <td>True</td>\n",
       "    </tr>\n",
       "    <tr>\n",
       "      <th>southeast</th>\n",
       "      <td>307.0</td>\n",
       "      <td>1.433158e-11</td>\n",
       "      <td>49.937112</td>\n",
       "      <td>True</td>\n",
       "    </tr>\n",
       "    <tr>\n",
       "      <th>northwest</th>\n",
       "      <td>304.0</td>\n",
       "      <td>6.419143e-13</td>\n",
       "      <td>56.148643</td>\n",
       "      <td>True</td>\n",
       "    </tr>\n",
       "    <tr>\n",
       "      <th>northeast</th>\n",
       "      <td>296.0</td>\n",
       "      <td>3.207934e-10</td>\n",
       "      <td>43.720448</td>\n",
       "      <td>True</td>\n",
       "    </tr>\n",
       "  </tbody>\n",
       "</table>\n",
       "</div>"
      ],
      "text/plain": [
       "               n             p  test stat   sig\n",
       "southwest  291.0  1.906636e-16  72.392042  True\n",
       "southeast  307.0  1.433158e-11  49.937112  True\n",
       "northwest  304.0  6.419143e-13  56.148643  True\n",
       "northeast  296.0  3.207934e-10  43.720448  True"
      ]
     },
     "execution_count": 35,
     "metadata": {},
     "output_type": "execute_result"
    }
   ],
   "source": [
    "# Check sign (statistical significance) in pandas (more ledgible)\n",
    "norm_results_df['sig'] = norm_results_df['p'] < 0.05\n",
    "norm_results_df"
   ]
  },
  {
   "cell_type": "markdown",
   "id": "fc0622a9",
   "metadata": {},
   "source": [
    "### We confirm that all regions do NOT have normal distribution. \n",
    "- We have large enough groups to ignore the assumption of normality"
   ]
  },
  {
   "cell_type": "code",
   "execution_count": 36,
   "id": "fd3e9bf7",
   "metadata": {},
   "outputs": [
    {
     "data": {
      "text/plain": [
       "LeveneResult(statistic=2.73322677477775, pvalue=0.04252872319674293)"
      ]
     },
     "execution_count": 36,
     "metadata": {},
     "output_type": "execute_result"
    }
   ],
   "source": [
    "# Testing groups for equal varience (levene test)\n",
    "stats.levene(*regions.values())"
   ]
  },
  {
   "cell_type": "markdown",
   "id": "ec8a16c2",
   "metadata": {},
   "source": [
    "### We did not meet the assumption of equal variance, but we can still perform a one-way ANOVA test using the Kruskal-Wallis test (Nonparametric test)\n",
    "\n"
   ]
  },
  {
   "cell_type": "code",
   "execution_count": 37,
   "id": "a7194cb8",
   "metadata": {},
   "outputs": [
    {
     "data": {
      "text/plain": [
       "KruskalResult(statistic=3.0, pvalue=0.3916251762710877)"
      ]
     },
     "execution_count": 37,
     "metadata": {},
     "output_type": "execute_result"
    }
   ],
   "source": [
    "results_anova = stats.kruskal(*regions)\n",
    "results_anova"
   ]
  },
  {
   "cell_type": "code",
   "execution_count": 38,
   "id": "df9a0105",
   "metadata": {},
   "outputs": [
    {
     "data": {
      "image/png": "[encoded data removed]",
      "text/plain": [
       "<Figure size 640x480 with 1 Axes>"
      ]
     },
     "metadata": {},
     "output_type": "display_data"
    }
   ],
   "source": [
    "# A quick visualization of our data WITHOUT outliers\n",
    "sns.barplot(data = anova_no_outliers, x = 'region', y = 'charges');"
   ]
  },
  {
   "cell_type": "markdown",
   "id": "a49de3f1",
   "metadata": {},
   "source": [
    "### Our result is > 0.05, indicating that we should ACCEPT the Null Hypothesis that there is no difference in insurance charges in different regions"
   ]
  }
 ],
 "metadata": {
  "kernelspec": {
   "display_name": "Python (dojo-env)",
   "language": "python",
   "name": "dojo-env"
  },
  "language_info": {
   "codemirror_mode": {
    "name": "ipython",
    "version": 3
   },
   "file_extension": ".py",
   "mimetype": "text/x-python",
   "name": "python",
   "nbconvert_exporter": "python",
   "pygments_lexer": "ipython3",
   "version": "3.8.13"
  },
  "toc": {
   "base_numbering": 1,
   "nav_menu": {},
   "number_sections": false,
   "sideBar": true,
   "skip_h1_title": false,
   "title_cell": "Table of Contents",
   "title_sidebar": "Contents",
   "toc_cell": false,
   "toc_position": {},
   "toc_section_display": true,
   "toc_window_display": false
  }
 },
 "nbformat": 4,
 "nbformat_minor": 5
}
